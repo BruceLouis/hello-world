{
 "cells": [
  {
   "cell_type": "code",
   "execution_count": 3,
   "metadata": {},
   "outputs": [
    {
     "name": "stdout",
     "output_type": "stream",
     "text": [
      "it was true\n"
     ]
    }
   ],
   "source": [
    "if True:\n",
    "    print 'it was true'"
   ]
  },
  {
   "cell_type": "code",
   "execution_count": 5,
   "metadata": {},
   "outputs": [
    {
     "name": "stdout",
     "output_type": "stream",
     "text": [
      "x was true\n"
     ]
    }
   ],
   "source": [
    "x = True\n",
    "if x:\n",
    "    print 'x was true'\n",
    "else:\n",
    "    print 'x was anything not true'"
   ]
  },
  {
   "cell_type": "code",
   "execution_count": 10,
   "metadata": {},
   "outputs": [
    {
     "name": "stdout",
     "output_type": "stream",
     "text": [
      "Mall\n"
     ]
    }
   ],
   "source": [
    "loc = 'Mall'\n",
    "\n",
    "if loc == 'Auto Shop':\n",
    "    print 'Auto Shop'\n",
    "elif loc == 'Bank':\n",
    "    print 'Bank'\n",
    "elif loc == 'Mall':\n",
    "    print 'Mall'\n",
    "else:\n",
    "    print 'Where you at'"
   ]
  },
  {
   "cell_type": "code",
   "execution_count": 12,
   "metadata": {},
   "outputs": [
    {
     "name": "stdout",
     "output_type": "stream",
     "text": [
      "Who are you\n"
     ]
    }
   ],
   "source": [
    "person = 'Sammy'\n",
    "\n",
    "if person == 'Sam':\n",
    "    print 'Sup Sam'\n",
    "else:\n",
    "    print 'Who are you'"
   ]
  },
  {
   "cell_type": "code",
   "execution_count": null,
   "metadata": {
    "collapsed": true
   },
   "outputs": [],
   "source": []
  }
 ],
 "metadata": {
  "kernelspec": {
   "display_name": "Python 2",
   "language": "python",
   "name": "python2"
  },
  "language_info": {
   "codemirror_mode": {
    "name": "ipython",
    "version": 2
   },
   "file_extension": ".py",
   "mimetype": "text/x-python",
   "name": "python",
   "nbconvert_exporter": "python",
   "pygments_lexer": "ipython2",
   "version": "2.7.14"
  }
 },
 "nbformat": 4,
 "nbformat_minor": 2
}
